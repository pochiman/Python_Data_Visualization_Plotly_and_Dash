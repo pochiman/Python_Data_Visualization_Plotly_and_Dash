{
 "cells": [
  {
   "cell_type": "code",
   "execution_count": null,
   "id": "0023cafc-83f0-4d03-b298-e7f2ea674d2e",
   "metadata": {},
   "outputs": [],
   "source": [
    "pip install dash_bootstrap_components\n",
    "pip install dash_bootstrap_templates"
   ]
  }
 ],
 "metadata": {
  "kernelspec": {
   "display_name": "Python 3 (ipykernel)",
   "language": "python",
   "name": "python3"
  },
  "language_info": {
   "codemirror_mode": {
    "name": "ipython",
    "version": 3
   },
   "file_extension": ".py",
   "mimetype": "text/x-python",
   "name": "python",
   "nbconvert_exporter": "python",
   "pygments_lexer": "ipython3",
   "version": "3.11.10"
  }
 },
 "nbformat": 4,
 "nbformat_minor": 5
}
