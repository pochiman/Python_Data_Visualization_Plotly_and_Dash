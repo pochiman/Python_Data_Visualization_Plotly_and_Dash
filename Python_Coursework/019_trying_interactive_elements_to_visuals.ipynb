{
 "cells": [
  {
   "cell_type": "code",
   "execution_count": 1,
   "id": "00ca8071-64f8-49a3-8c4e-63f523ca9289",
   "metadata": {},
   "outputs": [
    {
     "data": {
      "text/html": [
       "\n",
       "        <iframe\n",
       "            width=\"100%\"\n",
       "            height=\"650\"\n",
       "            src=\"http://127.0.0.1:8050/\"\n",
       "            frameborder=\"0\"\n",
       "            allowfullscreen\n",
       "            \n",
       "        ></iframe>\n",
       "        "
      ],
      "text/plain": [
       "<IPython.lib.display.IFrame at 0x126ffba90>"
      ]
     },
     "metadata": {},
     "output_type": "display_data"
    }
   ],
   "source": [
    "from dash import html, dcc, Dash\n",
    "from jupyter_dash import JupyterDash\n",
    "from dash.dependencies import Input, Output\n",
    "from dash.exceptions import PreventUpdate\n",
    "import plotly.express as px\n",
    "import pandas as pd\n",
    "import seaborn as sns\n",
    "\n",
    "df = sns.load_dataset(\"anscombe\")\n",
    "\n",
    "# app = JupyterDash(__name__)\n",
    "app = Dash(__name__)\n",
    "\n",
    "app.layout = html.Div([\n",
    "    html.H3(\"Anscombe's Quartet\"),\n",
    "    dcc.Graph(\n",
    "        id=\"visual\",\n",
    "        figure = px.scatter(\n",
    "                    df.query(f\"dataset == 'I'\"),\n",
    "                    x=\"x\",\n",
    "                    y=\"y\"\n",
    "                ))\n",
    "\n",
    "])\n",
    "\n",
    "if __name__ == \"__main__\":\n",
    "    app.run_server(mode=\"inline\")"
   ]
  },
  {
   "cell_type": "code",
   "execution_count": 2,
   "id": "7dc9ee0e-385e-4849-bf18-44241bd1218c",
   "metadata": {},
   "outputs": [
    {
     "data": {
      "text/html": [
       "\n",
       "        <iframe\n",
       "            width=\"100%\"\n",
       "            height=\"650\"\n",
       "            src=\"http://127.0.0.1:8050/\"\n",
       "            frameborder=\"0\"\n",
       "            allowfullscreen\n",
       "            \n",
       "        ></iframe>\n",
       "        "
      ],
      "text/plain": [
       "<IPython.lib.display.IFrame at 0x12751de10>"
      ]
     },
     "metadata": {},
     "output_type": "display_data"
    }
   ],
   "source": [
    "from dash import html, dcc, Dash\n",
    "from jupyter_dash import JupyterDash\n",
    "from dash.dependencies import Input, Output\n",
    "from dash.exceptions import PreventUpdate\n",
    "import plotly.express as px\n",
    "import pandas as pd\n",
    "import seaborn as sns\n",
    "\n",
    "df = sns.load_dataset(\"anscombe\")\n",
    "\n",
    "# app = JupyterDash(__name__)\n",
    "app = Dash(__name__)\n",
    "\n",
    "app.layout = html.Div([\n",
    "    html.H3(\"Anscombe's Quartet\"),\n",
    "    dcc.Dropdown(id=\"dropdown\", options=df[\"dataset\"].unique()),\n",
    "    dcc.Graph(id=\"visual\")\n",
    "])\n",
    "\n",
    "@app.callback(Output(\"visual\", \"figure\"), Input(\"dropdown\", \"value\"))\n",
    "def anscombes_scatter(dataset):\n",
    "    figure = px.scatter(\n",
    "        df.query(f\"dataset == '{dataset}'\"),\n",
    "        x=\"x\",\n",
    "        y=\"y\"\n",
    "    )\n",
    "    return figure\n",
    "\n",
    "if __name__ == \"__main__\":\n",
    "    app.run_server(mode=\"inline\")"
   ]
  },
  {
   "cell_type": "code",
   "execution_count": null,
   "id": "dd19631f-e18c-4102-a8b0-129ad13ca81a",
   "metadata": {},
   "outputs": [],
   "source": []
  }
 ],
 "metadata": {
  "kernelspec": {
   "display_name": "Python 3 (ipykernel)",
   "language": "python",
   "name": "python3"
  },
  "language_info": {
   "codemirror_mode": {
    "name": "ipython",
    "version": 3
   },
   "file_extension": ".py",
   "mimetype": "text/x-python",
   "name": "python",
   "nbconvert_exporter": "python",
   "pygments_lexer": "ipython3",
   "version": "3.11.10"
  }
 },
 "nbformat": 4,
 "nbformat_minor": 5
}
