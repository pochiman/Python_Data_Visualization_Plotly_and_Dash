{
 "cells": [
  {
   "cell_type": "code",
   "execution_count": 1,
   "id": "7340b860-a0cc-4121-af4e-573817fb1751",
   "metadata": {},
   "outputs": [
    {
     "name": "stderr",
     "output_type": "stream",
     "text": [
      "/Users/pocholo/Desktop/projects/Python_Data_Visualization_Plotly_and_Dash/venv/lib/python3.11/site-packages/dash/dash.py:538: UserWarning:\n",
      "\n",
      "JupyterDash is deprecated, use Dash instead.\n",
      "See https://dash.plotly.com/dash-in-jupyter for more details.\n",
      "\n"
     ]
    },
    {
     "name": "stdout",
     "output_type": "stream",
     "text": [
      "Dash app running on http://127.0.0.1:8256/\n"
     ]
    },
    {
     "data": {
      "text/html": [
       "\n",
       "        <iframe\n",
       "            width=\"100%\"\n",
       "            height=\"650\"\n",
       "            src=\"http://127.0.0.1:8256/\"\n",
       "            frameborder=\"0\"\n",
       "            allowfullscreen\n",
       "            \n",
       "        ></iframe>\n",
       "        "
      ],
      "text/plain": [
       "<IPython.lib.display.IFrame at 0x111e052d0>"
      ]
     },
     "metadata": {},
     "output_type": "display_data"
    }
   ],
   "source": [
    "from jupyter_dash import JupyterDash\n",
    "from dash import dcc, html\n",
    "import dash_bootstrap_components as dbc\n",
    "from dash.dependencies import Output, Input\n",
    "from dash.exceptions import PreventUpdate\n",
    "from dash_bootstrap_templates import load_figure_template\n",
    "\n",
    "import plotly.express as px\n",
    "import pandas as pd\n",
    "import numpy as np\n",
    "\n",
    "dbc_css = \"https://cdn.jsdelivr.net/gh/AnnMarieW/dash-bootstrap-templates/dbc.min.css\"\n",
    "\n",
    "app = JupyterDash(__name__, external_stylesheets=[dbc.themes.SLATE, dbc_css])\n",
    "\n",
    "load_figure_template(\"SLATE\")\n",
    "\n",
    "education = (pd\n",
    "             .read_csv(\"../Data/states_all.csv\")\n",
    "             .iloc[:, 1:]\n",
    "             .rename({\n",
    "                 \"AVG_MATH_4_SCORE\": \"4th Gr. Math\",\n",
    "                 \"AVG_MATH_8_SCORE\": \"8th Gr. Math\",\n",
    "                 \"AVG_READING_4_SCORE\": \"4th Gr. Reading\",\n",
    "                 \"AVG_READING_8_SCORE\": \"8th Gr. Reading\"\n",
    "             }, axis=1)\n",
    "             .assign(expenditure_per_student=lambda x: x[\"TOTAL_EXPENDITURE\"]/x[\"GRADES_ALL_G\"])\n",
    ")\n",
    "\n",
    "\n",
    "app.layout = html.Div([\n",
    "    dbc.Row(html.H1(\"Education Performance and Expenditure in the US\", style={\"text-align\": \"center\"})),\n",
    "    dbc.Row([\n",
    "       dbc.Col([\n",
    "           dbc.Card([\n",
    "           dcc.Markdown(\"Select an X Column\"),\n",
    "           dcc.RadioItems(\n",
    "               id=\"score-radio\",\n",
    "               options=[\"4th Gr. Math\", \"8th Gr. Math\", \"4th Gr. Reading\", \"8th Gr. Reading\"], \n",
    "               value=\"8th Gr. Math\"\n",
    "           ),\n",
    "           html.Hr(),\n",
    "           dcc.Markdown(\"Select a Y Column\"),\n",
    "           dcc.RadioItems(\n",
    "                id=\"score-radio2\",\n",
    "                options=[\"4th Gr. Math\", \"8th Gr. Math\", \"4th Gr. Reading\", \"8th Gr. Reading\"],\n",
    "                value=\"8th Gr. Reading\"\n",
    "           )])\n",
    "       ], width=2),\n",
    "        dbc.Col(\n",
    "            dcc.Graph(id=\"cross-filter-scatter\", hoverData={'points': [{'customdata': ['CALIFORNIA']}]})\n",
    "        ),\n",
    "        dbc.Col(dcc.Graph(id=\"x-line\"))\n",
    "    ])\n",
    "])\n",
    "@app.callback(\n",
    "    Output(\"cross-filter-scatter\", \"figure\"),\n",
    "    Input(\"score-radio\", \"value\"),\n",
    "    Input(\"score-radio2\", \"value\"))\n",
    "def score_scatter(x, y):\n",
    "    fig = px.scatter(\n",
    "        education.query(\"YEAR == 2013\"),\n",
    "        x=x,\n",
    "        y=y,\n",
    "        hover_name=\"STATE\",\n",
    "        custom_data=[\"STATE\"]\n",
    "    )\n",
    "        \n",
    "    return fig\n",
    "\n",
    "    \n",
    "@app.callback(\n",
    "    Output(\"x-line\", \"figure\"),\n",
    "    Input(\"cross-filter-scatter\", \"hoverData\"))\n",
    "def update_line(hoverData):\n",
    "    state_name = hoverData[\"points\"][0][\"customdata\"][0]\n",
    "    df=education.query(\"STATE == @state_name\")\n",
    "    \n",
    "    fig = px.line(\n",
    "        df,\n",
    "        x=\"YEAR\",\n",
    "        y=\"expenditure_per_student\",\n",
    "        title=f\"Expenditure Per Student in {state_name.title()}\"\n",
    "    ).update_xaxes(showgrid=False)\n",
    "    \n",
    "    return fig\n",
    "    \n",
    "\n",
    "if __name__ == \"__main__\":\n",
    "    app.run_server(debug=True, port=8256)"
   ]
  },
  {
   "cell_type": "code",
   "execution_count": null,
   "id": "e9701eb7-f9f9-49f2-8ed2-f4d7649462d8",
   "metadata": {},
   "outputs": [],
   "source": []
  }
 ],
 "metadata": {
  "kernelspec": {
   "display_name": "Python 3 (ipykernel)",
   "language": "python",
   "name": "python3"
  },
  "language_info": {
   "codemirror_mode": {
    "name": "ipython",
    "version": 3
   },
   "file_extension": ".py",
   "mimetype": "text/x-python",
   "name": "python",
   "nbconvert_exporter": "python",
   "pygments_lexer": "ipython3",
   "version": "3.11.10"
  }
 },
 "nbformat": 4,
 "nbformat_minor": 5
}
