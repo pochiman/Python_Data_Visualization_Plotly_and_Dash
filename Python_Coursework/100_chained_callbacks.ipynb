{
 "cells": [
  {
   "cell_type": "code",
   "execution_count": 1,
   "id": "f5b99aa7-b79b-40f7-a0b7-41204df6a65b",
   "metadata": {},
   "outputs": [
    {
     "name": "stderr",
     "output_type": "stream",
     "text": [
      "/Users/pocholo/Desktop/projects/Python_Data_Visualization_Plotly_and_Dash/venv/lib/python3.11/site-packages/dash/dash.py:538: UserWarning:\n",
      "\n",
      "JupyterDash is deprecated, use Dash instead.\n",
      "See https://dash.plotly.com/dash-in-jupyter for more details.\n",
      "\n"
     ]
    },
    {
     "data": {
      "text/html": [
       "\n",
       "        <iframe\n",
       "            width=\"100%\"\n",
       "            height=\"650\"\n",
       "            src=\"http://127.0.0.1:8171/\"\n",
       "            frameborder=\"0\"\n",
       "            allowfullscreen\n",
       "            \n",
       "        ></iframe>\n",
       "        "
      ],
      "text/plain": [
       "<IPython.lib.display.IFrame at 0x123e6e590>"
      ]
     },
     "metadata": {},
     "output_type": "display_data"
    },
    {
     "name": "stdout",
     "output_type": "stream",
     "text": [
      "Dash app running on http://127.0.0.1:8171/\n"
     ]
    }
   ],
   "source": [
    "from jupyter_dash import JupyterDash\n",
    "from dash import dcc, html, dash_table\n",
    "import dash_bootstrap_components as dbc\n",
    "from dash.dependencies import Output, Input\n",
    "from dash.exceptions import PreventUpdate\n",
    "from dash_bootstrap_templates import load_figure_template\n",
    "\n",
    "import plotly.express as px\n",
    "import pandas as pd\n",
    "import numpy as np\n",
    "\n",
    "dbc_css = \"https://cdn.jsdelivr.net/gh/AnnMarieW/dash-bootstrap-templates/dbc.min.css\"\n",
    "\n",
    "app = JupyterDash(__name__, external_stylesheets=[dbc.themes.SLATE, dbc_css])\n",
    "\n",
    "load_figure_template(\"SLATE\")\n",
    "\n",
    "education = (\n",
    "    pd.read_csv(\"../Data/states_all.csv\")\n",
    "    .iloc[:, 1:]\n",
    "    .assign(\n",
    "        Avg_Math = lambda x: x[[\"AVG_MATH_4_SCORE\", \"AVG_MATH_8_SCORE\"]].mean(axis=1),\n",
    "        Avg_Reading = lambda x: x[[\"AVG_READING_4_SCORE\", \"AVG_READING_8_SCORE\"]].mean(axis=1),\n",
    "    )\n",
    ")\n",
    "\n",
    "all_options = {\n",
    "    \"By Subject\": [\n",
    "        {\"label\": \"Math\", \"value\": \"Avg_Math\" },\n",
    "        {\"label\": \"Reading\", \"value\": \"Avg_Reading\"}\n",
    "    ],\n",
    "    \"By Grade and Subject\": [\n",
    "        {\"label\": \"4th Grade Math\", \"value\": \"AVG_MATH_4_SCORE\" },\n",
    "        {\"label\": \"8th Grade Math\", \"value\": \"AVG_MATH_8_SCORE\" },\n",
    "        {\"label\": \"4th Grade Reading\", \"value\": \"AVG_READING_4_SCORE\" },\n",
    "        {\"label\": \"8th Grade Reading\", \"value\": \"AVG_READING_8_SCORE\" },\n",
    "    ],\n",
    "}\n",
    "\n",
    "app.layout= html.Div([\n",
    "    dcc.RadioItems(\n",
    "        id=\"report-type-radio\", \n",
    "        options=[\"By Subject\", \"By Grade and Subject\"], \n",
    "        value=\"By Grade and Subject\"\n",
    "    ),\n",
    "    dcc.RadioItems(id=\"metric-radio\"),\n",
    "    dcc.Graph(id=\"metric-bar\")\n",
    "])\n",
    "\n",
    "@app.callback(\n",
    "    Output(\"metric-radio\", \"options\"), \n",
    "    Input(\"report-type-radio\", \"value\"))\n",
    "def set_metrics_options(selected_report):\n",
    "    return all_options[selected_report]\n",
    "\n",
    "@app.callback(\n",
    "    Output(\"metric-bar\", \"figure\"),\n",
    "    Input(\"metric-radio\", \"value\"))\n",
    "def plot_bar(metric):\n",
    "    if not metric:\n",
    "        raise PreventUpdate\n",
    "    figure = px.bar((\n",
    "        education\n",
    "        .groupby(\"STATE\", as_index=False)\n",
    "        .agg({metric: \"mean\"})\n",
    "        .sort_values(metric, ascending=False)\n",
    "        ),\n",
    "        x=\"STATE\",\n",
    "        y=metric\n",
    "    )\n",
    "    return figure\n",
    "\n",
    "app.run_server(debug=True, port=8171)"
   ]
  },
  {
   "cell_type": "code",
   "execution_count": null,
   "id": "e2a1d80a-dbd5-4f1f-8bf7-5646665f365b",
   "metadata": {},
   "outputs": [],
   "source": []
  }
 ],
 "metadata": {
  "kernelspec": {
   "display_name": "Python 3 (ipykernel)",
   "language": "python",
   "name": "python3"
  },
  "language_info": {
   "codemirror_mode": {
    "name": "ipython",
    "version": 3
   },
   "file_extension": ".py",
   "mimetype": "text/x-python",
   "name": "python",
   "nbconvert_exporter": "python",
   "pygments_lexer": "ipython3",
   "version": "3.11.10"
  }
 },
 "nbformat": 4,
 "nbformat_minor": 5
}
