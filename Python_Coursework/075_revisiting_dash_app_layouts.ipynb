{
 "cells": [
  {
   "cell_type": "code",
   "execution_count": 1,
   "id": "e4628d13-d0a0-4323-a48b-a2eda5455e49",
   "metadata": {},
   "outputs": [
    {
     "name": "stdout",
     "output_type": "stream",
     "text": [
      "Dash app running on http://127.0.0.1:8111/\n"
     ]
    },
    {
     "name": "stderr",
     "output_type": "stream",
     "text": [
      "/Users/pocholo/Desktop/projects/Python_Data_Visualization_Plotly_and_Dash/venv/lib/python3.11/site-packages/dash/dash.py:538: UserWarning:\n",
      "\n",
      "JupyterDash is deprecated, use Dash instead.\n",
      "See https://dash.plotly.com/dash-in-jupyter for more details.\n",
      "\n"
     ]
    },
    {
     "data": {
      "text/html": [
       "\n",
       "        <iframe\n",
       "            width=\"100%\"\n",
       "            height=\"650\"\n",
       "            src=\"http://127.0.0.1:8111/\"\n",
       "            frameborder=\"0\"\n",
       "            allowfullscreen\n",
       "            \n",
       "        ></iframe>\n",
       "        "
      ],
      "text/plain": [
       "<IPython.lib.display.IFrame at 0x1232083d0>"
      ]
     },
     "metadata": {},
     "output_type": "display_data"
    }
   ],
   "source": [
    "from jupyter_dash import JupyterDash\n",
    "from dash import dcc, html\n",
    "from dash.dependencies import Output, Input\n",
    "from dash.exceptions import PreventUpdate\n",
    "\n",
    "import plotly.express as px\n",
    "import pandas as pd\n",
    "import numpy as np\n",
    "\n",
    "education = pd.read_csv(\"../Data/states_all.csv\").iloc[:, 1:]\n",
    "\n",
    "app = JupyterDash(__name__)\n",
    "\n",
    "app.layout = html.Div(style={\"textAlign\": \"center\"},\n",
    "    children=[\n",
    "        html.H2(\n",
    "            id=\"Header Text\", \n",
    "#            \n",
    "        ),\n",
    "#         html.Br(),\n",
    "        html.Hr(),\n",
    "        html.P(\"Select a State Below\", id='instructions'),\n",
    "        dcc.Dropdown(\n",
    "                options=[\"Alabama\", \"Alaska\", \"Arkansas\"],\n",
    "                value=\"Alabama\",\n",
    "                id=\"State Dropdown\",\n",
    "        ),\n",
    "        dcc.Graph(id=\"Revenue Line\"),\n",
    "        html.P(\"Disclaimers: None of this data is accurate\")\n",
    "])\n",
    "\n",
    "@app.callback(\n",
    "    Output(\"Header Text\", \"children\"),\n",
    "    Output(\"Revenue Line\", \"figure\"),\n",
    "    Input(\"State Dropdown\", \"value\")\n",
    ")\n",
    "\n",
    "def plot_bar_clar(state):\n",
    "    if not state:\n",
    "        raise PreventUpdate\n",
    "    df=education.loc[\n",
    "        (education[\"STATE\"]==state.upper()) & (education[\"YEAR\"].between(1992, 2017))\n",
    "    ]\n",
    "    fig=px.line(df,x=\"YEAR\", y=\"GRADES_ALL_G\")\n",
    "    title = f\"Enrollment over time in {state.title()}\"\n",
    "    return title, fig\n",
    "\n",
    "app.run_server(debug=True, port=8111)"
   ]
  },
  {
   "cell_type": "code",
   "execution_count": null,
   "id": "9761b571-5e32-42a8-a3e1-a887c581bd01",
   "metadata": {},
   "outputs": [],
   "source": []
  }
 ],
 "metadata": {
  "kernelspec": {
   "display_name": "Python 3 (ipykernel)",
   "language": "python",
   "name": "python3"
  },
  "language_info": {
   "codemirror_mode": {
    "name": "ipython",
    "version": 3
   },
   "file_extension": ".py",
   "mimetype": "text/x-python",
   "name": "python",
   "nbconvert_exporter": "python",
   "pygments_lexer": "ipython3",
   "version": "3.11.10"
  }
 },
 "nbformat": 4,
 "nbformat_minor": 5
}
