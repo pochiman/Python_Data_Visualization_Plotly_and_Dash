{
 "cells": [
  {
   "cell_type": "code",
   "execution_count": 1,
   "id": "e66b5b5e-bf16-4312-947c-216b4b248d39",
   "metadata": {},
   "outputs": [
    {
     "name": "stderr",
     "output_type": "stream",
     "text": [
      "/Users/pocholo/Desktop/projects/Python_Data_Visualization_Plotly_and_Dash/venv/lib/python3.11/site-packages/dash/dash.py:538: UserWarning:\n",
      "\n",
      "JupyterDash is deprecated, use Dash instead.\n",
      "See https://dash.plotly.com/dash-in-jupyter for more details.\n",
      "\n"
     ]
    },
    {
     "data": {
      "text/html": [
       "\n",
       "        <iframe\n",
       "            width=\"100%\"\n",
       "            height=\"650\"\n",
       "            src=\"http://127.0.0.1:8282/\"\n",
       "            frameborder=\"0\"\n",
       "            allowfullscreen\n",
       "            \n",
       "        ></iframe>\n",
       "        "
      ],
      "text/plain": [
       "<IPython.lib.display.IFrame at 0x12960a390>"
      ]
     },
     "metadata": {},
     "output_type": "display_data"
    },
    {
     "name": "stdout",
     "output_type": "stream",
     "text": [
      "Dash app running on http://127.0.0.1:8282/\n"
     ]
    }
   ],
   "source": [
    "from jupyter_dash import JupyterDash\n",
    "from dash import dcc, html, dash_table\n",
    "import dash_bootstrap_components as dbc\n",
    "from dash.dependencies import Output, Input\n",
    "from dash.exceptions import PreventUpdate\n",
    "from dash_bootstrap_templates import load_figure_template\n",
    "\n",
    "import plotly.express as px\n",
    "import pandas as pd\n",
    "import numpy as np\n",
    "\n",
    "dbc_css = \"https://cdn.jsdelivr.net/gh/AnnMarieW/dash-bootstrap-templates/dbc.min.css\"\n",
    "\n",
    "style = {\n",
    "    'backgroundColor': 'rgb(30, 30, 30)',\n",
    "    'color': 'lightgrey',\n",
    "    'font-family': \"Arial\"\n",
    "}\n",
    "\n",
    "from dash import dash_table\n",
    "\n",
    "app = JupyterDash(__name__, # external_stylesheets=[dbc.themes.SLATE, dbc_css]\n",
    "                 )\n",
    "\n",
    "education = pd.read_csv(\"../Data/states_all.csv\").iloc[:, 1:]\n",
    "\n",
    "from dash import dash_table\n",
    "\n",
    "app.layout = html.Div(\n",
    "    dash_table.DataTable(\n",
    "        columns=[{\"name\": i, \"id\": i} for i in education.columns],\n",
    "        data=education.to_dict(\"records\"),\n",
    "        filter_action=\"native\",\n",
    "        sort_action=\"native\",\n",
    "        export_format=\"csv\",\n",
    "        style_header=style,\n",
    "        style_data=style\n",
    "    )\n",
    ")\n",
    "\n",
    "app.run_server(debug=True, port=8282)"
   ]
  },
  {
   "cell_type": "code",
   "execution_count": 2,
   "id": "db057320-36f7-4eee-a191-95a780ba86b1",
   "metadata": {},
   "outputs": [
    {
     "name": "stderr",
     "output_type": "stream",
     "text": [
      "/Users/pocholo/Desktop/projects/Python_Data_Visualization_Plotly_and_Dash/venv/lib/python3.11/site-packages/dash/dash.py:538: UserWarning:\n",
      "\n",
      "JupyterDash is deprecated, use Dash instead.\n",
      "See https://dash.plotly.com/dash-in-jupyter for more details.\n",
      "\n"
     ]
    },
    {
     "name": "stdout",
     "output_type": "stream",
     "text": [
      "Dash app running on http://127.0.0.1:8262/\n"
     ]
    },
    {
     "data": {
      "text/html": [
       "\n",
       "        <iframe\n",
       "            width=\"100%\"\n",
       "            height=\"650\"\n",
       "            src=\"http://127.0.0.1:8262/\"\n",
       "            frameborder=\"0\"\n",
       "            allowfullscreen\n",
       "            \n",
       "        ></iframe>\n",
       "        "
      ],
      "text/plain": [
       "<IPython.lib.display.IFrame at 0x12c071d10>"
      ]
     },
     "metadata": {},
     "output_type": "display_data"
    }
   ],
   "source": [
    "from jupyter_dash import JupyterDash\n",
    "from dash import dcc, html, dash_table\n",
    "import dash_bootstrap_components as dbc\n",
    "from dash.dependencies import Output, Input\n",
    "from dash.exceptions import PreventUpdate\n",
    "from dash_bootstrap_templates import load_figure_template\n",
    "\n",
    "import plotly.express as px\n",
    "import pandas as pd\n",
    "import numpy as np\n",
    "\n",
    "dbc_css = \"https://cdn.jsdelivr.net/gh/AnnMarieW/dash-bootstrap-templates/dbc.min.css\"\n",
    "\n",
    "from dash import dash_table\n",
    "\n",
    "app = JupyterDash(__name__, external_stylesheets=[dbc.themes.SLATE, dbc_css])\n",
    "\n",
    "education = pd.read_csv(\"../Data/states_all.csv\").iloc[:, 1:]\n",
    "\n",
    "app.layout = dbc.Container(\n",
    "    dbc.Table.from_dataframe(\n",
    "        education, \n",
    "        striped=True, \n",
    "        bordered=True, \n",
    "        hover=True,\n",
    "#         color=\"dark\",\n",
    "        class_name=\"dbc\"\n",
    "    )\n",
    ")\n",
    "\n",
    "app.run_server(debug=True,port=8262)"
   ]
  },
  {
   "cell_type": "code",
   "execution_count": null,
   "id": "a65f8b86-1bf3-4685-a61b-5f3bd2871550",
   "metadata": {},
   "outputs": [],
   "source": []
  }
 ],
 "metadata": {
  "kernelspec": {
   "display_name": "Python 3 (ipykernel)",
   "language": "python",
   "name": "python3"
  },
  "language_info": {
   "codemirror_mode": {
    "name": "ipython",
    "version": 3
   },
   "file_extension": ".py",
   "mimetype": "text/x-python",
   "name": "python",
   "nbconvert_exporter": "python",
   "pygments_lexer": "ipython3",
   "version": "3.11.10"
  }
 },
 "nbformat": 4,
 "nbformat_minor": 5
}
