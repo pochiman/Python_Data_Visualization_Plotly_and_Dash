{
 "cells": [
  {
   "cell_type": "code",
   "execution_count": 1,
   "id": "fb6fffa5-0c11-4631-9340-2cd03a5082c2",
   "metadata": {},
   "outputs": [
    {
     "name": "stderr",
     "output_type": "stream",
     "text": [
      "/Users/pocholo/Desktop/projects/Python_Data_Visualization_Plotly_and_Dash/venv/lib/python3.11/site-packages/dash/dash.py:538: UserWarning:\n",
      "\n",
      "JupyterDash is deprecated, use Dash instead.\n",
      "See https://dash.plotly.com/dash-in-jupyter for more details.\n",
      "\n"
     ]
    },
    {
     "name": "stdout",
     "output_type": "stream",
     "text": [
      "Dash app running on http://127.0.0.1:8283/\n"
     ]
    },
    {
     "data": {
      "text/html": [
       "\n",
       "        <iframe\n",
       "            width=\"100%\"\n",
       "            height=\"650\"\n",
       "            src=\"http://127.0.0.1:8283/\"\n",
       "            frameborder=\"0\"\n",
       "            allowfullscreen\n",
       "            \n",
       "        ></iframe>\n",
       "        "
      ],
      "text/plain": [
       "<IPython.lib.display.IFrame at 0x120eb7610>"
      ]
     },
     "metadata": {},
     "output_type": "display_data"
    }
   ],
   "source": [
    "from jupyter_dash import JupyterDash\n",
    "from dash import dcc, html, dash_table\n",
    "import dash_bootstrap_components as dbc\n",
    "from dash.dependencies import Output, Input\n",
    "from dash.exceptions import PreventUpdate\n",
    "from dash_bootstrap_templates import load_figure_template\n",
    "\n",
    "import plotly.express as px\n",
    "import pandas as pd\n",
    "import numpy as np\n",
    "\n",
    "dbc_css = \"https://cdn.jsdelivr.net/gh/AnnMarieW/dash-bootstrap-templates/dbc.min.css\"\n",
    "\n",
    "app = JupyterDash(__name__, external_stylesheets=[dbc.themes.SLATE, dbc_css])\n",
    "\n",
    "style = {\n",
    "    'backgroundColor': 'rgb(30, 30, 30)',\n",
    "    'color': 'lightgrey',\n",
    "    'font-family': \"Arial\"\n",
    "}\n",
    "\n",
    "load_figure_template(\"SLATE\")\n",
    "\n",
    "df = (\n",
    "    pd.read_csv(\"../Data/states_all.csv\")\n",
    "    .iloc[:, 1:]\n",
    "    .groupby(\"STATE\", as_index=False)\n",
    "    .agg({\"TOTAL_EXPENDITURE\": \"mean\"})\n",
    "    .sort_values(\"TOTAL_EXPENDITURE\", ascending=False)\n",
    ")\n",
    "\n",
    "app.layout = html.Div([\n",
    "    dcc.RadioItems(\n",
    "        id=\"OutputPicker\",\n",
    "        options=[\"bar\", \"table\"],\n",
    "        value=\"bar\"\n",
    "    ),\n",
    "    html.Div(id=\"Output Div\")    \n",
    "])\n",
    "\n",
    "@app.callback(Output(\"Output Div\", \"children\"), Input(\"OutputPicker\", \"value\"))\n",
    "def output_generator(output_style):\n",
    "    if output_style == \"bar\":\n",
    "        output = dcc.Graph(figure=px.bar(df, x=\"STATE\", y=\"TOTAL_EXPENDITURE\")) \n",
    "    else:\n",
    "        output = dash_table.DataTable(             \n",
    "            columns=[{\"name\": i, \"id\": i} for i in df.columns],\n",
    "            data=df.to_dict(\"records\"),\n",
    "            style_header=style,\n",
    "            style_data=style\n",
    "        )\n",
    "        \n",
    "    return output  \n",
    "\n",
    "app.run_server(debug=True, port=8283)"
   ]
  },
  {
   "cell_type": "code",
   "execution_count": null,
   "id": "02d649a9-cda4-4ea2-8ffa-925a30e15724",
   "metadata": {},
   "outputs": [],
   "source": []
  }
 ],
 "metadata": {
  "kernelspec": {
   "display_name": "Python 3 (ipykernel)",
   "language": "python",
   "name": "python3"
  },
  "language_info": {
   "codemirror_mode": {
    "name": "ipython",
    "version": 3
   },
   "file_extension": ".py",
   "mimetype": "text/x-python",
   "name": "python",
   "nbconvert_exporter": "python",
   "pygments_lexer": "ipython3",
   "version": "3.11.10"
  }
 },
 "nbformat": 4,
 "nbformat_minor": 5
}
