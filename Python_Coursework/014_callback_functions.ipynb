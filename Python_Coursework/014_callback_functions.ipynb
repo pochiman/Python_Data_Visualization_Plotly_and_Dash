{
 "cells": [
  {
   "cell_type": "code",
   "execution_count": 1,
   "id": "69963249-288d-49ba-b012-256678be6934",
   "metadata": {},
   "outputs": [
    {
     "name": "stderr",
     "output_type": "stream",
     "text": [
      "/Users/pocholo/Desktop/projects/Python_Data_Visualization_Plotly_and_Dash/venv/lib/python3.11/site-packages/dash/dash.py:538: UserWarning:\n",
      "\n",
      "JupyterDash is deprecated, use Dash instead.\n",
      "See https://dash.plotly.com/dash-in-jupyter for more details.\n",
      "\n"
     ]
    },
    {
     "name": "stdout",
     "output_type": "stream",
     "text": [
      "Dash app running on http://127.0.0.1:8060/\n"
     ]
    },
    {
     "data": {
      "text/html": [
       "\n",
       "        <iframe\n",
       "            width=\"100%\"\n",
       "            height=\"650\"\n",
       "            src=\"http://127.0.0.1:8060/\"\n",
       "            frameborder=\"0\"\n",
       "            allowfullscreen\n",
       "            \n",
       "        ></iframe>\n",
       "        "
      ],
      "text/plain": [
       "<IPython.lib.display.IFrame at 0x10f7bbcd0>"
      ]
     },
     "metadata": {},
     "output_type": "display_data"
    }
   ],
   "source": [
    "from dash import html, dcc\n",
    "from dash.dependencies import Input, Output\n",
    "from jupyter_dash import JupyterDash\n",
    "\n",
    "app = JupyterDash(__name__)\n",
    "\n",
    "app.layout = html.Div([\n",
    "    \"Pick a Country\",\n",
    "    dcc.Dropdown(\n",
    "        options=[\"USA\", \"India\", \"China\", \"Indonesia\", \"Nigeria\"],\n",
    "        value=\"USA\",\n",
    "        id=\"country-dropdown\"\n",
    "    ),\n",
    "    html.H3(id=\"country-output\")\n",
    "])\n",
    "\n",
    "@app.callback(\n",
    "    Output(\"country-output\", \"children\"),\n",
    "    Input(\"country-dropdown\", \"value\")\n",
    ")\n",
    "def country_picker(country):\n",
    "    return f\"I live in {country}\"\n",
    "\n",
    "if __name__ == \"__main__\":\n",
    "    app.run_server(port=8060)"
   ]
  },
  {
   "cell_type": "code",
   "execution_count": null,
   "id": "7aa639c5-3ed2-4381-98d0-49ead488092d",
   "metadata": {},
   "outputs": [],
   "source": []
  }
 ],
 "metadata": {
  "kernelspec": {
   "display_name": "Python 3 (ipykernel)",
   "language": "python",
   "name": "python3"
  },
  "language_info": {
   "codemirror_mode": {
    "name": "ipython",
    "version": 3
   },
   "file_extension": ".py",
   "mimetype": "text/x-python",
   "name": "python",
   "nbconvert_exporter": "python",
   "pygments_lexer": "ipython3",
   "version": "3.11.10"
  }
 },
 "nbformat": 4,
 "nbformat_minor": 5
}
